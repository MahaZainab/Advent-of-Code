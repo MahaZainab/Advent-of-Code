{
 "cells": [
  {
   "cell_type": "code",
   "execution_count": 2,
   "metadata": {},
   "outputs": [
    {
     "name": "stdout",
     "output_type": "stream",
     "text": [
      "106648\n"
     ]
    }
   ],
   "source": [
    "from collections import defaultdict\n",
    "from pprint import pprint\n",
    "\n",
    "with open(\"input.txt\") as f:\n",
    "    #content = f.readlines()\n",
    "    content = [x.strip() for x in f.readlines()]\n",
    "\n",
    "grid = {}\n",
    "w = len(content[0])\n",
    "h = len(content)\n",
    "for y, v1 in enumerate(content):\n",
    "    for x, v2 in enumerate(v1):\n",
    "        grid[(x, y)] = v2\n",
    "\n",
    "for y in range(h):\n",
    "    for x in range(w):\n",
    "        if grid[(x, y)] == 'O':\n",
    "            grid[(x, y)] = \".\"\n",
    "            pos = (x, y)\n",
    "            for d in range(1, y+1):\n",
    "                iy = y-d\n",
    "                if iy >= 0 and grid[(x, iy)] == \".\":\n",
    "                    pos = (x, iy)\n",
    "                else:\n",
    "                    break\n",
    "            grid[pos] = 'O'\n",
    "\n",
    "\n",
    "ans = 0\n",
    "for y in range(h):\n",
    "    line = \"\"\n",
    "    for x in range(w):\n",
    "        line += grid[(x, y)]\n",
    "        if grid[(x, y)] == 'O':\n",
    "            ans += h-y\n",
    "    #print(line)\n",
    "\n",
    "print(ans)"
   ]
  },
  {
   "cell_type": "code",
   "execution_count": 2,
   "metadata": {},
   "outputs": [
    {
     "name": "stdout",
     "output_type": "stream",
     "text": [
      "106648\n",
      "87700\n"
     ]
    }
   ],
   "source": [
    "import sys\n",
    "import re\n",
    "from copy import deepcopy\n",
    "from math import gcd\n",
    "from collections import defaultdict, Counter, deque\n",
    "\n",
    "# Read input file\n",
    "D = open('input.txt').read().strip()\n",
    "\n",
    "L = D.split('\\n')\n",
    "G = [[c for c in row] for row in L]\n",
    "\n",
    "def rotate(G):\n",
    "    R = len(G)\n",
    "    C = len(G[0])\n",
    "    NG = [['?' for _ in range(R)] for _ in range(C)]\n",
    "    for r in range(R):\n",
    "        for c in range(C):\n",
    "            NG[c][R-1-r] = G[r][c]\n",
    "    return NG\n",
    "\n",
    "def roll(G):\n",
    "    R = len(G)\n",
    "    C = len(G[0])\n",
    "    for c in range(C):\n",
    "        for _ in range(R):\n",
    "            for r in range(R):\n",
    "                if G[r][c] == 'O' and r > 0 and G[r-1][c] == '.':\n",
    "                    G[r][c] = '.'\n",
    "                    G[r-1][c] = 'O'\n",
    "    return G\n",
    "\n",
    "def score(G):\n",
    "    ans = 0\n",
    "    R = len(G)\n",
    "    C = len(G[0])\n",
    "    for r in range(R):\n",
    "        for c in range(C):\n",
    "            if G[r][c] == 'O':\n",
    "                ans += len(G) - r\n",
    "    return ans\n",
    "\n",
    "def show(G):\n",
    "    for r in range(len(G)):\n",
    "        print(''.join(G[r]))\n",
    "\n",
    "BY_GRID = {}\n",
    "\n",
    "target = 10**9\n",
    "t = 0\n",
    "while t < target:\n",
    "    t += 1\n",
    "    for j in range(4):\n",
    "        G = roll(G)\n",
    "        if t == 1 and j == 0:\n",
    "            print(score(G))  # part1\n",
    "        G = rotate(G)\n",
    "\n",
    "    Gh = tuple(tuple(row) for row in G)\n",
    "    if Gh in BY_GRID:\n",
    "        cycle_length = t - BY_GRID[Gh]\n",
    "        amt = (target - t) // cycle_length\n",
    "        t += amt * cycle_length\n",
    "    BY_GRID[Gh] = t\n",
    "\n",
    "print(score(G))"
   ]
  },
  {
   "cell_type": "code",
   "execution_count": null,
   "metadata": {},
   "outputs": [],
   "source": []
  }
 ],
 "metadata": {
  "kernelspec": {
   "display_name": "base",
   "language": "python",
   "name": "python3"
  },
  "language_info": {
   "codemirror_mode": {
    "name": "ipython",
    "version": 3
   },
   "file_extension": ".py",
   "mimetype": "text/x-python",
   "name": "python",
   "nbconvert_exporter": "python",
   "pygments_lexer": "ipython3",
   "version": "3.9.12"
  }
 },
 "nbformat": 4,
 "nbformat_minor": 2
}
