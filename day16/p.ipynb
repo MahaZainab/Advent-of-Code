{
 "cells": [
  {
   "cell_type": "code",
   "execution_count": null,
   "metadata": {},
   "outputs": [],
   "source": [
    "import sys\n",
    "sys.setrecursionlimit(1000000)\n",
    "\n",
    "ll = [list(x) for x in open('input.txt').read().strip().split('\\n')]\n",
    "DIRS = [(0, 1), (0, -1), (1, 0), (-1, 0)]\n",
    "DNS = ['R', 'L', 'D', 'U']\n",
    "MIRRORS = {\n",
    "\t'.': {'R': ['R'], 'L': ['L'], 'D': ['D'], 'U': ['U']},\n",
    "\t'-': {'R': ['R'], 'L': ['L'], 'D': ['L', 'R'], 'U': ['L', 'R']},\n",
    "\t'|': {'R': ['D', 'U'], 'L': ['D', 'U'], 'D': ['D'], 'U': ['U']},\n",
    "\t'/': {'R': ['U'], 'L': ['D'], 'D': ['L'], 'U': ['R']},\n",
    "\t'\\\\': {'R': ['D'], 'L': ['U'], 'D': ['R'], 'U': ['L']},\n",
    "}\n",
    "\n",
    "def countfrom(start):\n",
    "\tillum = set()\n",
    "\tdef illuminate(x, y, dr):\n",
    "\t\tif (x, y, dr) in illum:\n",
    "\t\t\treturn\n",
    "\t\tillum.add((x, y, dr))\n",
    "\t\tmr = ll[x][y]\n",
    "\t\tfor nxt in MIRRORS[mr][dr]:\n",
    "\t\t\tnxt_dr = DIRS[DNS.index(nxt)]\n",
    "\t\t\tnx = x + nxt_dr[0]\n",
    "\t\t\tny = y + nxt_dr[1]\n",
    "\t\t\tif nx in range(len(ll)) and ny in range(len(ll[0])):\n",
    "\t\t\t\tilluminate(nx, ny, nxt)\n",
    "\tilluminate(start[0], start[1], start[2])\n",
    "\treturn len(set([(x, y) for x, y, _ in illum]))\n",
    "\n",
    "tests = []\n",
    "for x in range(len(ll)):\n",
    "\ttests.append((x, 0, 'R'))\n",
    "\ttests.append((x, len(ll[0]) - 1, 'L'))\n",
    "for y in range(len(ll[0])):\n",
    "\ttests.append((0, y, 'D'))\n",
    "\ttests.append((0, len(ll) - 1, 'U'))\n",
    "\n",
    "print(countfrom((0, 0, 'R')))\n",
    "print(max(countfrom(test) for test in tests))"
   ]
  },
  {
   "cell_type": "code",
   "execution_count": null,
   "metadata": {},
   "outputs": [],
   "source": []
  }
 ],
 "metadata": {
  "kernelspec": {
   "display_name": "base",
   "language": "python",
   "name": "python3"
  },
  "language_info": {
   "codemirror_mode": {
    "name": "ipython",
    "version": 3
   },
   "file_extension": ".py",
   "mimetype": "text/x-python",
   "name": "python",
   "nbconvert_exporter": "python",
   "pygments_lexer": "ipython3",
   "version": "3.9.12"
  }
 },
 "nbformat": 4,
 "nbformat_minor": 2
}
