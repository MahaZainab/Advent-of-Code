{
 "cells": [
  {
   "cell_type": "code",
   "execution_count": 1,
   "metadata": {},
   "outputs": [
    {
     "name": "stdout",
     "output_type": "stream",
     "text": [
      "Ways to win each race: [4, 8, 9]\n",
      "Total number of ways to win all races: 288\n"
     ]
    }
   ],
   "source": [
    "def calculate_ways_to_win(total_time, record_distance):\n",
    "    # Counts the number of ways to win the race\n",
    "    ways_to_win = 0\n",
    "\n",
    "    for hold_time in range(total_time + 1):\n",
    "        # Speed is equal to the time button is held\n",
    "        speed = hold_time\n",
    "        # Remaining time after the button is released\n",
    "        remaining_time = total_time - hold_time\n",
    "        # Distance traveled\n",
    "        distance = speed * remaining_time\n",
    "\n",
    "        if distance > record_distance:\n",
    "            ways_to_win += 1\n",
    "\n",
    "    return ways_to_win\n",
    "\n",
    "# Race details\n",
    "races = [\n",
    "    (7, 9),   # (total time, record distance)\n",
    "    (15, 40),\n",
    "    (30, 200)\n",
    "]\n",
    "\n",
    "# Calculate ways to win for each race\n",
    "ways_to_win_each_race = [calculate_ways_to_win(time, record) for time, record in races]\n",
    "\n",
    "# Product of ways to win each race\n",
    "product_of_ways = 1\n",
    "for ways in ways_to_win_each_race:\n",
    "    product_of_ways *= ways\n",
    "\n",
    "print(\"Ways to win each race:\", ways_to_win_each_race)\n",
    "print(\"Total number of ways to win all races:\", product_of_ways)\n"
   ]
  },
  {
   "cell_type": "code",
   "execution_count": 2,
   "metadata": {},
   "outputs": [
    {
     "name": "stdout",
     "output_type": "stream",
     "text": [
      "Ways to win each race: [20, 10, 17, 50]\n",
      "Total number of ways to win all races: 170000\n"
     ]
    }
   ],
   "source": [
    "def calculate_ways_to_win(total_time, record_distance):\n",
    "    ways_to_win = 0\n",
    "    for hold_time in range(total_time + 1):\n",
    "        speed = hold_time\n",
    "        remaining_time = total_time - hold_time\n",
    "        distance = speed * remaining_time\n",
    "        if distance > record_distance:\n",
    "            ways_to_win += 1\n",
    "    return ways_to_win\n",
    "\n",
    "def read_race_data(filename):\n",
    "    with open(filename, 'r') as file:\n",
    "        lines = file.readlines()\n",
    "\n",
    "    # Assuming the data format is consistent with the provided example\n",
    "    times = list(map(int, lines[0].split()[1:])) # Skipping the first word \"Time:\"\n",
    "    distances = list(map(int, lines[1].split()[1:])) # Skipping the first word \"Distance:\"\n",
    "    \n",
    "    return list(zip(times, distances))\n",
    "\n",
    "# Replace 'input_file.txt' with the actual file name\n",
    "race_data = read_race_data('input.txt')\n",
    "\n",
    "# Calculate ways to win for each race\n",
    "ways_to_win_each_race = [calculate_ways_to_win(time, record) for time, record in race_data]\n",
    "\n",
    "# Calculate the product of the ways to win\n",
    "total_ways_to_win = 1\n",
    "for ways in ways_to_win_each_race:\n",
    "    total_ways_to_win *= ways\n",
    "\n",
    "print(\"Ways to win each race:\", ways_to_win_each_race)\n",
    "print(\"Total number of ways to win all races:\", total_ways_to_win)\n"
   ]
  },
  {
   "cell_type": "code",
   "execution_count": 5,
   "metadata": {},
   "outputs": [
    {
     "name": "stdout",
     "output_type": "stream",
     "text": [
      "Number of ways to beat the record in the long race: 20537782\n"
     ]
    }
   ],
   "source": [
    "def calculate_ways_to_win(total_time, record_distance):\n",
    "    ways_to_win = 0\n",
    "    for hold_time in range(total_time + 1):\n",
    "        speed = hold_time\n",
    "        remaining_time = total_time - hold_time\n",
    "        distance = speed * remaining_time\n",
    "        if distance > record_distance:\n",
    "            ways_to_win += 1\n",
    "    return ways_to_win\n",
    "\n",
    "def read_race_data(filename):\n",
    "    with open(filename, 'r') as file:\n",
    "        lines = file.readlines()\n",
    "\n",
    "    # Extracting time and distance from the file\n",
    "    total_time = int(''.join(lines[0].split()[1:]))  # Joining the parts of the time into a single number\n",
    "    record_distance = int(''.join(lines[1].split()[1:]))  # Joining the parts of the distance into a single number\n",
    "\n",
    "    return total_time, record_distance\n",
    "\n",
    "# Replace 'input.txt' with the actual file name\n",
    "total_time_long_race, record_distance_long_race = read_race_data('input.txt')\n",
    "\n",
    "# Calculate ways to win for the long race\n",
    "ways_to_win_long_race = calculate_ways_to_win(total_time_long_race, record_distance_long_race)\n",
    "\n",
    "print(\"Number of ways to beat the record in the long race:\", ways_to_win_long_race)\n"
   ]
  },
  {
   "cell_type": "code",
   "execution_count": null,
   "metadata": {},
   "outputs": [],
   "source": []
  }
 ],
 "metadata": {
  "kernelspec": {
   "display_name": "base",
   "language": "python",
   "name": "python3"
  },
  "language_info": {
   "codemirror_mode": {
    "name": "ipython",
    "version": 3
   },
   "file_extension": ".py",
   "mimetype": "text/x-python",
   "name": "python",
   "nbconvert_exporter": "python",
   "pygments_lexer": "ipython3",
   "version": "3.9.12"
  }
 },
 "nbformat": 4,
 "nbformat_minor": 2
}
