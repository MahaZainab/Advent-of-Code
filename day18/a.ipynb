{
 "cells": [
  {
   "cell_type": "code",
   "execution_count": 1,
   "metadata": {},
   "outputs": [],
   "source": [
    "import sys\n",
    "from collections import defaultdict, deque\n",
    "import numpy as np\n",
    "\n",
    "# https://stackoverflow.com/a/30408825\n",
    "def PolyArea(x,y):\n",
    "    return 0.5*np.abs(np.dot(x,np.roll(y,1))-np.dot(y,np.roll(x,1)))\n",
    "\n",
    "loc = (0, 0)\n",
    "pts = set()\n",
    "xs = []\n",
    "ys = []\n",
    "dir_map = {\"U\": (1, 0), \"D\": (-1, 0), \"R\": (0, 1), \"L\": (0, -1)}\n",
    "pts.add((0, 0))\n",
    "for line in sys.stdin:\n",
    "    line = line.strip()\n",
    "    if line == \"\": continue\n",
    "    a, b, c = line.split()\n",
    "    cur_dir = dir_map[a]\n",
    "    cur_len = int(b)\n",
    "    for i in range(cur_len+1):\n",
    "        pts.add((loc[0]+i*cur_dir[0], loc[1]+i*cur_dir[1]))\n",
    "    loc = (loc[0]+cur_len*cur_dir[0], loc[1]+cur_len*cur_dir[1])\n",
    "    xs.append(loc[0])\n",
    "    ys.append(loc[1])\n",
    "    print(loc)\n",
    "\n",
    "A = PolyArea(xs, ys)\n",
    "b = len(pts)\n",
    "# A = i + b/2 - 1 -> i = A + 1 - b/2\n",
    "assert(b % 2 == 0)\n",
    "I = A + 1 - b // 2\n",
    "print(I+b)"
   ]
  },
  {
   "cell_type": "code",
   "execution_count": 3,
   "metadata": {},
   "outputs": [
    {
     "name": "stdout",
     "output_type": "stream",
     "text": [
      "53300\n",
      "64294334780659\n"
     ]
    }
   ],
   "source": [
    "ll = [x for x in open('input.txt').read().strip().split('\\n')]\n",
    "DIRS = [(0, 1), (1, 0), (0, -1), (-1, 0)]\n",
    "DNS = ['R', 'D', 'L', 'U']\n",
    "def run(part2):\n",
    "\tboundary = set()\n",
    "\tpos = (0, 0)\n",
    "\tpoints = [pos]\n",
    "\tperimeter = 0\n",
    "\tfor l in ll:\n",
    "\t\tif part2:\n",
    "\t\t\tl = l.split(\"#\")[1].split(\")\")[0]\n",
    "\t\t\td = DIRS[int(l[-1])]\n",
    "\t\t\tdist = int(l[:-1], 16)\n",
    "\t\telse:\n",
    "\t\t\td = DIRS[DNS.index(l.split(\" \")[0])]\n",
    "\t\t\tdist = int(l.split(\" \")[1])\n",
    "\t\tpos = (pos[0] + d[0] * dist, pos[1] + d[1] * dist)\n",
    "\t\tperimeter += dist\n",
    "\t\tpoints.append(pos)\n",
    "\n",
    "\tpoints = points[::-1]\n",
    "\ta = 0\n",
    "\tfor i in range(len(points) - 1):\n",
    "\t\ta += (points[i][1] + points[i + 1][1]) * (points[i][0] - points[i + 1][0])\n",
    "\tprint(perimeter // 2 + a // 2 + 1)\n",
    "\n",
    "run(False)\n",
    "run(True)"
   ]
  },
  {
   "cell_type": "code",
   "execution_count": null,
   "metadata": {},
   "outputs": [],
   "source": []
  },
  {
   "cell_type": "code",
   "execution_count": null,
   "metadata": {},
   "outputs": [],
   "source": []
  }
 ],
 "metadata": {
  "kernelspec": {
   "display_name": "base",
   "language": "python",
   "name": "python3"
  },
  "language_info": {
   "codemirror_mode": {
    "name": "ipython",
    "version": 3
   },
   "file_extension": ".py",
   "mimetype": "text/x-python",
   "name": "python",
   "nbconvert_exporter": "python",
   "pygments_lexer": "ipython3",
   "version": "3.9.12"
  }
 },
 "nbformat": 4,
 "nbformat_minor": 2
}
