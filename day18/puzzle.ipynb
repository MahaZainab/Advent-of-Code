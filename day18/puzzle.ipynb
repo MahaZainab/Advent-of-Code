{
 "cells": [
  {
   "cell_type": "code",
   "execution_count": 1,
   "metadata": {},
   "outputs": [
    {
     "name": "stdout",
     "output_type": "stream",
     "text": [
      "Lagoon Volume: 32 cubic meters\n"
     ]
    }
   ],
   "source": [
    "def mark_trench_edges(dig_plan):\n",
    "    directions = {\"U\": (-1, 0), \"D\": (1, 0), \"L\": (0, -1), \"R\": (0, 1)}\n",
    "    x, y = 0, 0  # Starting position\n",
    "    trench_map = {(x, y)}  # Set to store coordinates of the trench edges\n",
    "\n",
    "    for direction, steps in dig_plan:\n",
    "        dx, dy = directions[direction]\n",
    "        for _ in range(steps):\n",
    "            x += dx\n",
    "            y += dy\n",
    "            trench_map.add((x, y))\n",
    "    \n",
    "    return trench_map\n",
    "\n",
    "def fill_interior(trench_edges):\n",
    "    min_x = min(x for x, y in trench_edges)\n",
    "    max_x = max(x for x, y in trench_edges)\n",
    "    min_y = min(y for x, y in trench_edges)\n",
    "    max_y = max(y for x, y in trench_edges)\n",
    "\n",
    "    filled = set()\n",
    "    for i in range(min_x - 1, max_x + 2):\n",
    "        for j in range(min_y - 1, max_y + 2):\n",
    "            if (i, j) not in trench_edges:\n",
    "                filled.add((i, j))\n",
    "\n",
    "    for x in range(min_x - 1, max_x + 2):\n",
    "        filled.discard((x, min_y - 1))\n",
    "        filled.discard((x, max_y + 1))\n",
    "    for y in range(min_y - 1, max_y + 2):\n",
    "        filled.discard((min_x - 1, y))\n",
    "        filled.discard((max_x + 1, y))\n",
    "\n",
    "    return filled\n",
    "\n",
    "# Dig plan\n",
    "dig_plan = [\n",
    "    (\"R\", 6), (\"D\", 5), (\"L\", 2), (\"D\", 2), (\"R\", 2), (\"D\", 2),\n",
    "    (\"L\", 5), (\"U\", 2), (\"L\", 1), (\"U\", 2), (\"R\", 2), (\"U\", 3),\n",
    "    (\"L\", 2), (\"U\", 2)\n",
    "]\n",
    "\n",
    "# Calculate the lagoon volume\n",
    "trench_edges = mark_trench_edges(dig_plan)\n",
    "filled_interior = fill_interior(trench_edges)\n",
    "lagoon_volume = len(filled_interior)\n",
    "\n",
    "print(f\"Lagoon Volume: {lagoon_volume} cubic meters\")\n"
   ]
  },
  {
   "cell_type": "code",
   "execution_count": 2,
   "metadata": {},
   "outputs": [],
   "source": [
    "import sys\n",
    "from collections import defaultdict, deque\n",
    "import numpy as np\n",
    "\n",
    "# https://stackoverflow.com/a/30408825\n",
    "def PolyArea(x,y):\n",
    "    return 0.5*np.abs(np.dot(x,np.roll(y,1))-np.dot(y,np.roll(x,1)))\n",
    "\n",
    "loc = (0, 0)\n",
    "pts = set()\n",
    "xs = []\n",
    "ys = []\n",
    "dir_map = {\"U\": (1, 0), \"D\": (-1, 0), \"R\": (0, 1), \"L\": (0, -1)}\n",
    "pts.add((0, 0))\n",
    "for line in sys.stdin:\n",
    "    line = line.strip()\n",
    "    if line == \"\": continue\n",
    "    a, b, c = line.split()\n",
    "    cur_dir = dir_map[a]\n",
    "    cur_len = int(b)\n",
    "    for i in range(cur_len+1):\n",
    "        pts.add((loc[0]+i*cur_dir[0], loc[1]+i*cur_dir[1]))\n",
    "    loc = (loc[0]+cur_len*cur_dir[0], loc[1]+cur_len*cur_dir[1])\n",
    "    xs.append(loc[0])\n",
    "    ys.append(loc[1])\n",
    "    print(loc)\n",
    "\n",
    "A = PolyArea(xs, ys)\n",
    "b = len(pts)\n",
    "# A = i + b/2 - 1 -> i = A + 1 - b/2\n",
    "assert(b % 2 == 0)\n",
    "I = A + 1 - b // 2\n",
    "print(I+b)"
   ]
  },
  {
   "cell_type": "code",
   "execution_count": null,
   "metadata": {},
   "outputs": [],
   "source": []
  }
 ],
 "metadata": {
  "kernelspec": {
   "display_name": "Python 3",
   "language": "python",
   "name": "python3"
  },
  "language_info": {
   "codemirror_mode": {
    "name": "ipython",
    "version": 3
   },
   "file_extension": ".py",
   "mimetype": "text/x-python",
   "name": "python",
   "nbconvert_exporter": "python",
   "pygments_lexer": "ipython3",
   "version": "3.11.7"
  }
 },
 "nbformat": 4,
 "nbformat_minor": 2
}
