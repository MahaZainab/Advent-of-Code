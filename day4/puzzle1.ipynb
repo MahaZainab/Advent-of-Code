{
 "cells": [
  {
   "cell_type": "code",
   "execution_count": 1,
   "metadata": {},
   "outputs": [
    {
     "data": {
      "text/plain": [
       "13"
      ]
     },
     "execution_count": 1,
     "metadata": {},
     "output_type": "execute_result"
    }
   ],
   "source": [
    "with open(\"input.txt\", \"r\") as file:\n",
    "    lines= file.readlines()\n",
    "    total_sum=0\n",
    "    for line in lines:\n",
    "        digits = [int(char) for char in line if char.isdigit()]\n",
    "        numbers=int(f\"{digits[0]}{digits[-1]}\")\n",
    "        total_sum+=numbers\n",
    "    \n",
    "    print(total_sum)\n",
    "# First, let's define the scratchcard data from the example provided.\n",
    "scratchcards = [\n",
    "    {\"winning_numbers\": [41, 48, 83, 86, 17], \"your_numbers\": [83, 86, 6, 31, 17, 9, 48, 53]},\n",
    "    {\"winning_numbers\": [13, 32, 20, 16, 61], \"your_numbers\": [61, 30, 68, 82, 17, 32, 24, 19]},\n",
    "    {\"winning_numbers\": [1, 21, 53, 59, 44], \"your_numbers\": [69, 82, 63, 72, 16, 21, 14, 1]},\n",
    "    {\"winning_numbers\": [41, 92, 73, 84, 69], \"your_numbers\": [59, 84, 76, 51, 58, 5, 54, 83]},\n",
    "    {\"winning_numbers\": [87, 83, 26, 28, 32], \"your_numbers\": [88, 30, 70, 12, 93, 22, 82, 36]},\n",
    "    {\"winning_numbers\": [31, 18, 13, 56, 72], \"your_numbers\": [74, 77, 10, 23, 35, 67, 36, 11]},\n",
    "]\n",
    "\n",
    "# Function to calculate points for a single scratchcard\n",
    "def calculate_card_points(card):\n",
    "    matches = set(card[\"winning_numbers\"]) & set(card[\"your_numbers\"])\n",
    "    if not matches:\n",
    "        return 0\n",
    "    return 2 ** (len(matches) - 1)\n",
    "\n",
    "# Calculate total points for all scratchcards\n",
    "total_points = sum(calculate_card_points(card) for card in scratchcards)\n",
    "total_points\n"
   ]
  },
  {
   "cell_type": "code",
   "execution_count": 2,
   "metadata": {},
   "outputs": [
    {
     "name": "stdout",
     "output_type": "stream",
     "text": [
      "15268\n"
     ]
    }
   ],
   "source": [
    "\n",
    "def calculate_total_points_from_file(file_path):\n",
    "    def parse_line(line):\n",
    "        parts = line.split('|')\n",
    "        winning_numbers = list(map(int, parts[0].split()[2:]))  # Skip \"Card X:\"\n",
    "        your_numbers = list(map(int, parts[1].split()))\n",
    "        return {\"winning_numbers\": winning_numbers, \"your_numbers\": your_numbers}\n",
    "\n",
    "    def calculate_card_points(card):\n",
    "        matches = set(card[\"winning_numbers\"]) & set(card[\"your_numbers\"])\n",
    "        return 2 ** (len(matches) - 1) if matches else 0\n",
    "\n",
    "    total_points = 0\n",
    "    with open(file_path, 'r') as file:\n",
    "        for line in file:\n",
    "            card = parse_line(line.strip())\n",
    "            total_points += calculate_card_points(card)\n",
    "\n",
    "    return total_points\n",
    "\n",
    "file_path = \"input.txt\"\n",
    "total_points = calculate_total_points_from_file(file_path)\n",
    "print(total_points)\n",
    "\n"
   ]
  },
  {
   "cell_type": "code",
   "execution_count": 3,
   "metadata": {},
   "outputs": [
    {
     "data": {
      "text/plain": [
       "30"
      ]
     },
     "execution_count": 3,
     "metadata": {},
     "output_type": "execute_result"
    }
   ],
   "source": [
    "def calculate_total_scratchcards(cards):\n",
    "    def count_matches(winning, your):\n",
    "        return len(set(winning) & set(your))\n",
    "\n",
    "    # Create a list to store the number of copies for each card\n",
    "    card_copies = [1] * len(cards)  # Start with 1 copy of each card\n",
    "\n",
    "    for i in range(len(cards)):\n",
    "        # Count the number of matching numbers for each card\n",
    "        matches = count_matches(cards[i][\"winning_numbers\"], cards[i][\"your_numbers\"])\n",
    "\n",
    "        # Add copies of the next cards based on the number of matches\n",
    "        for j in range(i + 1, min(i + 1 + matches, len(cards))):\n",
    "            card_copies[j] += card_copies[i]\n",
    "\n",
    "    # The total number of scratchcards is the sum of all the copies\n",
    "    return sum(card_copies)\n",
    "\n",
    "# Example data\n",
    "cards = [\n",
    "    {\"winning_numbers\": [41, 48, 83, 86, 17], \"your_numbers\": [83, 86, 6, 31, 17, 9, 48, 53]},\n",
    "    {\"winning_numbers\": [13, 32, 20, 16, 61], \"your_numbers\": [61, 30, 68, 82, 17, 32, 24, 19]},\n",
    "    {\"winning_numbers\": [1, 21, 53, 59, 44], \"your_numbers\": [69, 82, 63, 72, 16, 21, 14, 1]},\n",
    "    {\"winning_numbers\": [41, 92, 73, 84, 69], \"your_numbers\": [59, 84, 76, 51, 58, 5, 54, 83]},\n",
    "    {\"winning_numbers\": [87, 83, 26, 28, 32], \"your_numbers\": [88, 30, 70, 12, 93, 22, 82, 36]},\n",
    "    {\"winning_numbers\": [31, 18, 13, 56, 72], \"your_numbers\": [74, 77, 10, 23, 35, 67, 36, 11]},\n",
    "]\n",
    "\n",
    "total_scratchcards = calculate_total_scratchcards(cards)\n",
    "total_scratchcards\n"
   ]
  },
  {
   "cell_type": "code",
   "execution_count": 4,
   "metadata": {},
   "outputs": [
    {
     "name": "stdout",
     "output_type": "stream",
     "text": [
      "6283755\n"
     ]
    }
   ],
   "source": [
    "def calculate_total_scratchcards_from_file(file_path):\n",
    "    def parse_line(line):\n",
    "        parts = line.split('|')\n",
    "        winning_numbers = list(map(int, parts[0].split()[2:]))\n",
    "        your_numbers = list(map(int, parts[1].split()))\n",
    "        return {\"winning_numbers\": winning_numbers, \"your_numbers\": your_numbers}\n",
    "\n",
    "    def count_matches(winning, your):\n",
    "        return len(set(winning) & set(your))\n",
    "\n",
    "    cards = []\n",
    "    with open(file_path, 'r') as file:\n",
    "        for line in file:\n",
    "            cards.append(parse_line(line.strip()))\n",
    "\n",
    "    card_copies = [1] * len(cards)\n",
    "    for i in range(len(cards)):\n",
    "        matches = count_matches(cards[i][\"winning_numbers\"], cards[i][\"your_numbers\"])\n",
    "        for j in range(i + 1, min(i + 1 + matches, len(cards))):\n",
    "            card_copies[j] += card_copies[i]\n",
    "\n",
    "    return sum(card_copies)\n",
    "\n",
    "file_path = \"input.txt\"\n",
    "total_scratchcards = calculate_total_scratchcards_from_file(file_path)\n",
    "print(total_scratchcards)\n"
   ]
  },
  {
   "cell_type": "code",
   "execution_count": null,
   "metadata": {},
   "outputs": [],
   "source": []
  }
 ],
 "metadata": {
  "kernelspec": {
   "display_name": "base",
   "language": "python",
   "name": "python3"
  },
  "language_info": {
   "codemirror_mode": {
    "name": "ipython",
    "version": 3
   },
   "file_extension": ".py",
   "mimetype": "text/x-python",
   "name": "python",
   "nbconvert_exporter": "python",
   "pygments_lexer": "ipython3",
   "version": "3.9.12"
  }
 },
 "nbformat": 4,
 "nbformat_minor": 2
}
