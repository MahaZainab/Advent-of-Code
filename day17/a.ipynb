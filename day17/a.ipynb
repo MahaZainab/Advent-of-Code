{
 "cells": [
  {
   "cell_type": "code",
   "execution_count": 1,
   "metadata": {},
   "outputs": [
    {
     "name": "stdout",
     "output_type": "stream",
     "text": [
      "1110\n",
      "1294\n"
     ]
    }
   ],
   "source": [
    "from heapq import heappop, heappush\n",
    "ll = [[int(y) for y in x] for x in open('input.txt').read().strip().split('\\n')]\n",
    "DIRS = [(0, 1), (1, 0), (0, -1), (-1, 0)]\n",
    "def inr(pos, arr):\n",
    "\treturn pos[0] in range(len(arr)) and pos[1] in range(len(arr[0]))\n",
    "def run(mindist, maxdist):\n",
    "\t# cost, x, y, disallowedDirection\n",
    "\tq = [(0, 0, 0, -1)]\n",
    "\tseen = set()\n",
    "\tcosts = {}\n",
    "\twhile q:\n",
    "\t\tcost, x, y, dd = heappop(q)\n",
    "\t\tif x == len(ll) - 1 and y == len(ll[0]) - 1: # goal x, goal y\n",
    "\t\t\treturn cost\n",
    "\t\tif (x, y, dd) in seen:\n",
    "\t\t\tcontinue\n",
    "\t\tseen.add((x, y, dd))\n",
    "\t\tfor direction in range(4):\n",
    "\t\t\tcostincrease = 0\n",
    "\t\t\tif direction == dd or (direction + 2) % 4 == dd:\n",
    "\t\t\t\t# can't go this way\n",
    "\t\t\t\tcontinue\n",
    "\t\t\tfor distance in range(1, maxdist + 1):\n",
    "\t\t\t\txx = x + DIRS[direction][0] * distance\n",
    "\t\t\t\tyy = y + DIRS[direction][1] * distance\n",
    "\t\t\t\tif inr((xx, yy), ll):\n",
    "\t\t\t\t\tcostincrease += ll[xx][yy]\n",
    "\t\t\t\t\tif distance < mindist:\n",
    "\t\t\t\t\t\tcontinue\n",
    "\t\t\t\t\tnc = cost + costincrease\n",
    "\t\t\t\t\tif costs.get((xx, yy, direction), 1e100)<=nc:\n",
    "\t\t\t\t\t\tcontinue\n",
    "\t\t\t\t\tcosts[(xx, yy, direction)]=nc\n",
    "\t\t\t\t\theappush(q, (nc, xx, yy, direction))\n",
    "\n",
    "print(run(1, 3))\n",
    "print(run(4, 10))"
   ]
  },
  {
   "cell_type": "code",
   "execution_count": null,
   "metadata": {},
   "outputs": [],
   "source": []
  }
 ],
 "metadata": {
  "kernelspec": {
   "display_name": "base",
   "language": "python",
   "name": "python3"
  },
  "language_info": {
   "codemirror_mode": {
    "name": "ipython",
    "version": 3
   },
   "file_extension": ".py",
   "mimetype": "text/x-python",
   "name": "python",
   "nbconvert_exporter": "python",
   "pygments_lexer": "ipython3",
   "version": "3.9.12"
  }
 },
 "nbformat": 4,
 "nbformat_minor": 2
}
