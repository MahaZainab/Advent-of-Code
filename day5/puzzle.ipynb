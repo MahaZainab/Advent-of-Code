{
 "cells": [
  {
   "cell_type": "code",
   "execution_count": 1,
   "metadata": {},
   "outputs": [
    {
     "data": {
      "text/plain": [
       "35"
      ]
     },
     "execution_count": 1,
     "metadata": {},
     "output_type": "execute_result"
    }
   ],
   "source": [
    "def map_number(source, mapping):\n",
    "    \"\"\"\n",
    "    Maps a given source number to its destination number using the provided mapping.\n",
    "    \"\"\"\n",
    "    for dest_start, source_start, length in mapping:\n",
    "        if source_start <= source < source_start + length:\n",
    "            return dest_start + (source - source_start)\n",
    "    return source  # If not in mapping, return the same number\n",
    "\n",
    "def lowest_location_number(seeds, mappings):\n",
    "    \"\"\"\n",
    "    Finds the lowest location number that corresponds to any of the initial seed numbers.\n",
    "    \"\"\"\n",
    "    current_numbers = seeds[:]\n",
    "    for mapping in mappings:\n",
    "        current_numbers = [map_number(num, mapping) for num in current_numbers]\n",
    "\n",
    "    return min(current_numbers)\n",
    "\n",
    "# Example data from the puzzle\n",
    "seeds = [79, 14, 55, 13]\n",
    "seed_to_soil = [(50, 98, 2), (52, 50, 48)]\n",
    "soil_to_fertilizer = [(0, 15, 37), (37, 52, 2), (39, 0, 15)]\n",
    "fertilizer_to_water = [(49, 53, 8), (0, 11, 42), (42, 0, 7), (57, 7, 4)]\n",
    "water_to_light = [(88, 18, 7), (18, 25, 70)]\n",
    "light_to_temperature = [(45, 77, 23), (81, 45, 19), (68, 64, 13)]\n",
    "temperature_to_humidity = [(0, 69, 1), (1, 0, 69)]\n",
    "humidity_to_location = [(60, 56, 37), (56, 93, 4)]\n",
    "\n",
    "mappings = [seed_to_soil, soil_to_fertilizer, fertilizer_to_water, water_to_light, light_to_temperature, temperature_to_humidity, humidity_to_location]\n",
    "\n",
    "# Find the lowest location number\n",
    "lowest_location = lowest_location_number(seeds, mappings)\n",
    "lowest_location\n"
   ]
  },
  {
   "cell_type": "code",
   "execution_count": 2,
   "metadata": {},
   "outputs": [
    {
     "name": "stdout",
     "output_type": "stream",
     "text": [
      "The lowest location number is: 910845529\n"
     ]
    }
   ],
   "source": [
    "def map_number(source, mapping):\n",
    "    \"\"\"\n",
    "    Maps a given source number to its destination number using the provided mapping.\n",
    "    \"\"\"\n",
    "    for dest_start, source_start, length in mapping:\n",
    "        if source_start <= source < source_start + length:\n",
    "            return dest_start + (source - source_start)\n",
    "    return source  # If not in mapping, return the same number\n",
    "\n",
    "def lowest_location_number(seeds, mappings):\n",
    "    \"\"\"\n",
    "    Finds the lowest location number that corresponds to any of the initial seed numbers.\n",
    "    \"\"\"\n",
    "    current_numbers = seeds[:]\n",
    "    for mapping in mappings:\n",
    "        current_numbers = [map_number(num, mapping) for num in current_numbers]\n",
    "\n",
    "    return min(current_numbers)\n",
    "\n",
    "def read_and_parse_file(file_path):\n",
    "    \"\"\"\n",
    "    Reads the file and parses the data to extract seeds and mappings.\n",
    "    \"\"\"\n",
    "    with open(file_path, 'r') as file:\n",
    "        content = file.read().split('\\n\\n')\n",
    "    \n",
    "    # Extract seeds\n",
    "    seeds = list(map(int, content[0].split(':')[1].strip().split()))\n",
    "\n",
    "    # Extract mappings\n",
    "    mappings = []\n",
    "    for mapping in content[1:]:\n",
    "        mapped_values = [tuple(map(int, line.split())) for line in mapping.split('\\n')[1:]]\n",
    "        mappings.append(mapped_values)\n",
    "\n",
    "    return seeds, mappings\n",
    "\n",
    "def process_data_and_find_lowest_location(file_path):\n",
    "    \"\"\"\n",
    "    Processes the data from the file and finds the lowest location number.\n",
    "    \"\"\"\n",
    "    seeds, mappings = read_and_parse_file(file_path)\n",
    "    return lowest_location_number(seeds, mappings)\n",
    "\n",
    "# Replace 'path_to_your_data_file.txt' with the path to your data file\n",
    "file_path = 'input.txt'\n",
    "lowest_location = process_data_and_find_lowest_location(file_path)\n",
    "print(f\"The lowest location number is: {lowest_location}\")\n"
   ]
  },
  {
   "cell_type": "code",
   "execution_count": null,
   "metadata": {},
   "outputs": [],
   "source": []
  }
 ],
 "metadata": {
  "kernelspec": {
   "display_name": "base",
   "language": "python",
   "name": "python3"
  },
  "language_info": {
   "codemirror_mode": {
    "name": "ipython",
    "version": 3
   },
   "file_extension": ".py",
   "mimetype": "text/x-python",
   "name": "python",
   "nbconvert_exporter": "python",
   "pygments_lexer": "ipython3",
   "version": "3.9.12"
  }
 },
 "nbformat": 4,
 "nbformat_minor": 2
}
