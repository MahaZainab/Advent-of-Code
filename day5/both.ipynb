{
 "cells": [
  {
   "cell_type": "code",
   "execution_count": 2,
   "metadata": {},
   "outputs": [
    {
     "name": "stdout",
     "output_type": "stream",
     "text": [
      "910845529\n",
      "77435348\n"
     ]
    }
   ],
   "source": [
    "\n",
    "# data=open('input.txt').readlines()\n",
    "def getblankseparated():\n",
    "    with open('input.txt') as f:\n",
    "        return f.read().split(\"\\n\\n\")\n",
    "data=getblankseparated()\n",
    "seeds = list(map(int, data[0].split()[1:]))\n",
    "p2seeds = []\n",
    "for i in range(0, len(seeds), 2):\n",
    "      p2seeds.append((seeds[i], seeds[i+1]))\n",
    "\n",
    "# return the array index of the range which covers the given seed (or None if none do)\n",
    "def find_range(seed, tokens):\n",
    "      for i in range(0, len(tokens), 3):\n",
    "            if seed in range(tokens[i+1], tokens[i+1] + tokens[i+2]):\n",
    "                  return i\n",
    "      return None\n",
    "\n",
    "# Transforms a seed value assuming it's in the provided range\n",
    "def transform(seed, range, tokens):\n",
    "      if range is None:\n",
    "            return seed\n",
    "      else:\n",
    "            return seed + tokens[range] - tokens[range+1]\n",
    "\n",
    "# Walk a step of the mapping for part 1\n",
    "def convert(seeds, converter):\n",
    "      tokens = list(map(int, converter.split()[2:]))\n",
    "      newseeds = []\n",
    "      for seed in seeds:\n",
    "            newseeds.append(transform(seed, find_range(seed, tokens), tokens))\n",
    "      return newseeds\n",
    "\n",
    "# Finds the start of the next range after start\n",
    "def findnext(rangestarts, start):\n",
    "      # this should really be a binary search, but :shrug:\n",
    "      for r in rangestarts:\n",
    "            if r > start:\n",
    "                  return r\n",
    "      return 98989898989898989898989898989\n",
    "\n",
    "def convert2(seeds, converter):\n",
    "      tokens = list(map(int, converter.split()[2:]))\n",
    "      rangestarts = sorted(tokens[i] for i in range(1, len(tokens), 3))\n",
    "      newseeds = []\n",
    "      for start,size in seeds:\n",
    "            while size > 0:\n",
    "                  rangeIndex = find_range(start, tokens)\n",
    "                  if rangeIndex is None:\n",
    "                        endrange = findnext(rangestarts, start)\n",
    "                  else:\n",
    "                        endrange = tokens[rangeIndex + 1] + tokens[rangeIndex + 2]\n",
    "                  step = min(endrange - start, size)\n",
    "                  newseeds.append((transform(start, rangeIndex, tokens), step))\n",
    "                  size -= step\n",
    "                  start += step\n",
    "      return newseeds\n",
    "\n",
    "\n",
    "for converter in data[1:]:\n",
    "      seeds = convert(seeds, converter)\n",
    "\n",
    "print(min(seeds))\n",
    "\n",
    "for converter in data[1:]:\n",
    "      p2seeds = convert2(p2seeds, converter)\n",
    "\n",
    "print(min(p2seeds)[0])\n",
    "\n",
    "\n",
    "\n"
   ]
  },
  {
   "cell_type": "code",
   "execution_count": null,
   "metadata": {},
   "outputs": [],
   "source": []
  }
 ],
 "metadata": {
  "kernelspec": {
   "display_name": "base",
   "language": "python",
   "name": "python3"
  },
  "language_info": {
   "codemirror_mode": {
    "name": "ipython",
    "version": 3
   },
   "file_extension": ".py",
   "mimetype": "text/x-python",
   "name": "python",
   "nbconvert_exporter": "python",
   "pygments_lexer": "ipython3",
   "version": "3.9.12"
  }
 },
 "nbformat": 4,
 "nbformat_minor": 2
}
