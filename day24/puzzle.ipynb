{
 "cells": [
  {
   "cell_type": "code",
   "execution_count": 10,
   "metadata": {},
   "outputs": [
    {
     "name": "stdout",
     "output_type": "stream",
     "text": [
      "15558\n"
     ]
    }
   ],
   "source": [
    "import re\n",
    "\n",
    "with open('input.txt', 'r') as file:\n",
    "    lines = [x.rstrip('\\n') for x in file.readlines()]\n",
    "\n",
    "#part 1: turn all equations into y = mx + b, then ax + b == cx + d at x = (d - b)/(a - c)\n",
    "\n",
    "eqns = []\n",
    "minVal = 200000000000000\n",
    "maxVal = 400000000000000\n",
    "\n",
    "for line in lines:\n",
    "    nums = [int(i) for i in re.findall(r'-?\\d+',line)]\n",
    "    slope = nums[4] / nums[3]\n",
    "    intercept = nums[1] - (nums[0] * slope)\n",
    "    eqns.append([slope,intercept,nums[0], nums[3] > 0])\n",
    "    \n",
    "out = 0\n",
    "for i, eqn1 in enumerate(eqns):\n",
    "    for eqn2 in eqns[i + 1:]:\n",
    "        if eqn1[0] != eqn2[0]:\n",
    "            intersectX = (eqn2[1] - eqn1[1])/(eqn1[0] - eqn2[0])\n",
    "            if (eqn1[3] and intersectX < eqn1[2]) or (not eqn1[3] and intersectX > eqn1[2]):\n",
    "                continue\n",
    "            elif (eqn2[3] and intersectX < eqn2[2]) or (not eqn2[3] and intersectX > eqn2[2]):\n",
    "                continue\n",
    "            intersectY = (eqn1[0] * intersectX) + eqn1[1]\n",
    "            if intersectX >= minVal and intersectX <= maxVal and intersectY >= minVal and intersectY <= maxVal:\n",
    "                out += 1\n",
    "            \n",
    "print(out)\n"
   ]
  },
  {
   "cell_type": "code",
   "execution_count": 19,
   "metadata": {},
   "outputs": [
    {
     "name": "stdout",
     "output_type": "stream",
     "text": [
      "Collecting utils\n",
      "  Downloading utils-1.0.1-py2.py3-none-any.whl (21 kB)\n",
      "Installing collected packages: utils\n",
      "Successfully installed utils-1.0.1\n",
      "Note: you may need to restart the kernel to use updated packages.\n"
     ]
    },
    {
     "name": "stderr",
     "output_type": "stream",
     "text": [
      "\n",
      "[notice] A new release of pip is available: 23.3.1 -> 23.3.2\n",
      "[notice] To update, run: python.exe -m pip install --upgrade pip\n"
     ]
    }
   ],
   "source": [
    "pip install utils"
   ]
  },
  {
   "cell_type": "code",
   "execution_count": 23,
   "metadata": {},
   "outputs": [
    {
     "name": "stdout",
     "output_type": "stream",
     "text": [
      "Collecting z3-solver\n",
      "  Downloading z3_solver-4.12.4.0-py2.py3-none-win_amd64.whl.metadata (697 bytes)\n",
      "Downloading z3_solver-4.12.4.0-py2.py3-none-win_amd64.whl (58.9 MB)\n",
      "   ---------------------------------------- 58.9/58.9 MB 455.7 kB/s eta 0:00:00\n",
      "Installing collected packages: z3-solver\n",
      "Successfully installed z3-solver-4.12.4.0\n",
      "Note: you may need to restart the kernel to use updated packages.\n"
     ]
    },
    {
     "name": "stderr",
     "output_type": "stream",
     "text": [
      "\n",
      "[notice] A new release of pip is available: 23.3.1 -> 23.3.2\n",
      "[notice] To update, run: python.exe -m pip install --upgrade pip\n"
     ]
    }
   ],
   "source": [
    "pip install z3-solver"
   ]
  },
  {
   "cell_type": "code",
   "execution_count": 24,
   "metadata": {},
   "outputs": [
    {
     "name": "stdout",
     "output_type": "stream",
     "text": [
      "15558\n",
      "765636044333842\n"
     ]
    }
   ],
   "source": [
    "import itertools\n",
    "from z3 import Int, Ints, Solver\n",
    "\n",
    "with open(\"input.txt\") as input_file:\n",
    "    input_lines = input_file.readlines()\n",
    "    input_lines = [line.strip('\\n') for line in input_lines]\n",
    "\n",
    "test_area = (7, 27) if len(input_lines) < 9 else (200000000000000, 400000000000000)\n",
    "\n",
    "counter = 0\n",
    "hailstones = []\n",
    "for line in input_lines:\n",
    "    px, py, pz, vx, vy, vz = [int(s) for s in line.replace(\",\", \"\").replace(\"@ \", \"\").split(\" \") if s]\n",
    "    hailstones.append((px, py, pz, vx, vy, vz))\n",
    "\n",
    "for h1, h2 in itertools.combinations(hailstones, 2):\n",
    "    px1, py1, pz1, vx1, vy1, vz1 = h1\n",
    "    px2, py2, pz2, vx2, vy2, vz2 = h2\n",
    "    # create line equations\n",
    "    # y = ax + b\n",
    "    slope_1 = vy1 / vx1\n",
    "    inter_1 = py1 - slope_1 * px1\n",
    "    slope_2 = vy2 / vx2\n",
    "    inter_2 = py2 - slope_2 * px2\n",
    "    # find intersection\n",
    "    # ax + b = cx + d\n",
    "    # ax - cx = d - b\n",
    "    # x(a - c) = d - b\n",
    "    # x = (d - b) / (a - c)\n",
    "    if slope_1 == slope_2:\n",
    "        continue  # parallel\n",
    "    ix = (inter_2 - inter_1) / (slope_1 - slope_2)\n",
    "    iy = slope_1 * ix + inter_1\n",
    "    # ignore if behind starting points\n",
    "    t1 = (ix - px1) / vx1\n",
    "    t2 = (ix - px2) / vx2\n",
    "    if t1 < 0 or t2 < 0:\n",
    "        continue\n",
    "    if test_area[0] <= ix <= test_area[1] and test_area[0] <= iy <= test_area[1]:\n",
    "        counter += 1\n",
    "\n",
    "print(counter)  # 12938\n",
    "\n",
    "pxr, pyr, pzr, vxr, vyr, vzr = Ints(\"pxr pyr pzr vxr vyr vzr\")\n",
    "s = Solver()\n",
    "for k, h in enumerate(hailstones[:3]):\n",
    "    tK = Int(f\"t{k}\")\n",
    "    s.add(tK > 0)\n",
    "    pxh, pyh, pzh, vxh, vyh, vzh = h\n",
    "    s.add(pxr + tK * vxr == pxh + tK * vxh)\n",
    "    s.add(pyr + tK * vyr == pyh + tK * vyh)\n",
    "    s.add(pzr + tK * vzr == pzh + tK * vzh)\n",
    "s.check()\n",
    "pxr = s.model()[pxr].as_long()\n",
    "pyr = s.model()[pyr].as_long()\n",
    "pzr = s.model()[pzr].as_long()\n",
    "print(pxr + pyr + pzr)  # 976976197397181"
   ]
  },
  {
   "cell_type": "code",
   "execution_count": null,
   "metadata": {},
   "outputs": [],
   "source": []
  }
 ],
 "metadata": {
  "kernelspec": {
   "display_name": "base",
   "language": "python",
   "name": "python3"
  },
  "language_info": {
   "codemirror_mode": {
    "name": "ipython",
    "version": 3
   },
   "file_extension": ".py",
   "mimetype": "text/x-python",
   "name": "python",
   "nbconvert_exporter": "python",
   "pygments_lexer": "ipython3",
   "version": "3.9.12"
  }
 },
 "nbformat": 4,
 "nbformat_minor": 2
}
