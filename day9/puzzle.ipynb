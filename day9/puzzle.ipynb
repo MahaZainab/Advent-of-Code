{
 "cells": [
  {
   "cell_type": "code",
   "execution_count": 3,
   "metadata": {},
   "outputs": [
    {
     "data": {
      "text/plain": [
       "114"
      ]
     },
     "execution_count": 3,
     "metadata": {},
     "output_type": "execute_result"
    }
   ],
   "source": [
    "def extrapolate_next_value(history):\n",
    "    \"\"\"\n",
    "    This function takes a history of values and extrapolates the next value.\n",
    "    It generates sequences of differences until they are all zeroes, then works\n",
    "    backwards to find the next value.\n",
    "    \"\"\"\n",
    "    # Generating difference sequences until all zeroes\n",
    "    sequences = [history]\n",
    "    while not all(value == 0 for value in sequences[-1]):\n",
    "        new_sequence = [sequences[-1][i+1] - sequences[-1][i] for i in range(len(sequences[-1]) - 1)]\n",
    "        sequences.append(new_sequence)\n",
    "\n",
    "    # Working backwards to find the next value\n",
    "    for i in range(len(sequences) - 2, -1, -1):\n",
    "        sequences[i].append(sequences[i][-1] + sequences[i+1][-1])\n",
    "\n",
    "    return sequences[0][-1]\n",
    "\n",
    "# Example histories\n",
    "histories = [\n",
    "    [0, 3, 6, 9, 12, 15],\n",
    "    [1, 3, 6, 10, 15, 21],\n",
    "    [10, 13, 16, 21, 30, 45]\n",
    "]\n",
    "\n",
    "# Calculating and summing the extrapolated next values\n",
    "sum_extrapolated_values = sum(extrapolate_next_value(history) for history in histories)\n",
    "sum_extrapolated_values\n"
   ]
  },
  {
   "cell_type": "code",
   "execution_count": 4,
   "metadata": {},
   "outputs": [
    {
     "name": "stdout",
     "output_type": "stream",
     "text": [
      "1684566095\n"
     ]
    }
   ],
   "source": [
    "def extrapolate_next_value(history):\n",
    "    \"\"\"\n",
    "    This function takes a history of values and extrapolates the next value.\n",
    "    It generates sequences of differences until they are all zeroes, then works\n",
    "    backwards to find the next value.\n",
    "    \"\"\"\n",
    "    sequences = [history]\n",
    "    while not all(value == 0 for value in sequences[-1]):\n",
    "        new_sequence = [sequences[-1][i+1] - sequences[-1][i] for i in range(len(sequences[-1]) - 1)]\n",
    "        sequences.append(new_sequence)\n",
    "\n",
    "    for i in range(len(sequences) - 2, -1, -1):\n",
    "        sequences[i].append(sequences[i][-1] + sequences[i+1][-1])\n",
    "\n",
    "    return sequences[0][-1]\n",
    "\n",
    "def extrapolate_next_value_from_file(file_path):\n",
    "    \"\"\"\n",
    "    Reads histories from a file and extrapolates the next value for each history.\n",
    "    Sums up these extrapolated values and returns the sum.\n",
    "    \"\"\"\n",
    "    with open(file_path, 'r') as file:\n",
    "        lines = file.readlines()\n",
    "\n",
    "    histories = [list(map(int, line.strip().split())) for line in lines]\n",
    "\n",
    "    sum_extrapolated_values = sum(extrapolate_next_value(history) for history in histories)\n",
    "\n",
    "    return sum_extrapolated_values\n",
    "\n",
    "\n",
    "file_path = 'input.txt'\n",
    "sum_extrapolated_values = extrapolate_next_value_from_file(file_path)\n",
    "print(sum_extrapolated_values)\n"
   ]
  },
  {
   "cell_type": "code",
   "execution_count": 5,
   "metadata": {},
   "outputs": [
    {
     "name": "stdout",
     "output_type": "stream",
     "text": [
      "1136\n"
     ]
    }
   ],
   "source": [
    "def extrapolate_previous_value(history):\n",
    "    \"\"\"\n",
    "    This function takes a history of values and extrapolates the previous value.\n",
    "    It generates sequences of differences until they are all zeroes, then works\n",
    "    backwards to find the previous value.\n",
    "    \"\"\"\n",
    "    sequences = [history]\n",
    "    while not all(value == 0 for value in sequences[-1]):\n",
    "        new_sequence = [sequences[-1][i+1] - sequences[-1][i] for i in range(len(sequences[-1]) - 1)]\n",
    "        sequences.append(new_sequence)\n",
    "\n",
    "    for i in range(len(sequences) - 2, -1, -1):\n",
    "        sequences[i].insert(0, sequences[i][0] - sequences[i+1][0])\n",
    "\n",
    "    return sequences[0][0]\n",
    "\n",
    "def extrapolate_previous_value_from_file(file_path):\n",
    "    \"\"\"\n",
    "    Reads histories from a file and extrapolates the previous value for each history.\n",
    "    Sums up these extrapolated values and returns the sum.\n",
    "    \"\"\"\n",
    "    with open(file_path, 'r') as file:\n",
    "        lines = file.readlines()\n",
    "\n",
    "    histories = [list(map(int, line.strip().split())) for line in lines]\n",
    "\n",
    "    sum_extrapolated_values = sum(extrapolate_previous_value(history) for history in histories)\n",
    "\n",
    "    return sum_extrapolated_values\n",
    "\n",
    "\n",
    "file_path = 'input.txt'\n",
    "sum_extrapolated_values = extrapolate_previous_value_from_file(file_path)\n",
    "print(sum_extrapolated_values)\n"
   ]
  },
  {
   "cell_type": "code",
   "execution_count": null,
   "metadata": {},
   "outputs": [],
   "source": []
  }
 ],
 "metadata": {
  "kernelspec": {
   "display_name": "base",
   "language": "python",
   "name": "python3"
  },
  "language_info": {
   "codemirror_mode": {
    "name": "ipython",
    "version": 3
   },
   "file_extension": ".py",
   "mimetype": "text/x-python",
   "name": "python",
   "nbconvert_exporter": "python",
   "pygments_lexer": "ipython3",
   "version": "3.9.12"
  }
 },
 "nbformat": 4,
 "nbformat_minor": 2
}
